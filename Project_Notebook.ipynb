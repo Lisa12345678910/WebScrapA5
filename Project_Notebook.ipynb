{
 "cells": [
  {
   "cell_type": "markdown",
   "metadata": {},
   "source": [
    "# Webscraping & Applied ML"
   ]
  },
  {
   "cell_type": "markdown",
   "metadata": {},
   "source": [
    "## Description : \n",
    "\n",
    "La description du projet se trouve dans le word "
   ]
  },
  {
   "cell_type": "markdown",
   "metadata": {},
   "source": [
    "## Scrapping"
   ]
  },
  {
   "cell_type": "markdown",
   "metadata": {},
   "source": [
    "Our sources are Google Flight and ICAO.\n",
    "\n",
    "Google flights : https://www.google.com/travel/flights?hl=fr\n",
    "\n",
    "ICAO : https://www.icao.int/environmental-protection/Carbonoffset/Pages/default.aspx\n",
    "\n",
    "The objective is to scrap some data that we can use for our case."
   ]
  },
  {
   "cell_type": "markdown",
   "metadata": {},
   "source": [
    "Imports :"
   ]
  },
  {
   "cell_type": "code",
   "execution_count": 1,
   "metadata": {},
   "outputs": [],
   "source": [
    "from selenium import webdriver\n",
    "from selenium.webdriver.common.by import By\n",
    "from selenium.webdriver.common.keys import Keys\n",
    "from selenium.webdriver.support.ui import WebDriverWait\n",
    "from selenium.webdriver.support import expected_conditions as EC\n",
    "from selenium.common.exceptions import TimeoutException,StaleElementReferenceException,ElementClickInterceptedException, NoSuchElementException\n",
    "from bs4 import BeautifulSoup\n",
    "import pandas as pd\n",
    "import time\n",
    "import logging\n",
    "from datetime import datetime\n",
    "from selenium import webdriver\n",
    "from selenium.webdriver.chrome.service import Service\n",
    "from selenium.webdriver.common.by import By\n",
    "from selenium.webdriver.common.keys import Keys\n",
    "from bs4 import BeautifulSoup\n",
    "import time\n",
    "import re"
   ]
  },
  {
   "cell_type": "code",
   "execution_count": 2,
   "metadata": {},
   "outputs": [],
   "source": [
    "# Initialize the WebDriver\n",
    "service = Service(r'C:\\Users\\deslo\\.wdm\\drivers\\chromedriver\\win64\\131.0.6778.108\\chromedriver-win32\\chromedriver.exe')\n",
    "driver = webdriver.Chrome(service=service)\n",
    "\n",
    "# Open Google Flights\n",
    "driver.get('https://www.google.com/travel/flights?hl=en')"
   ]
  },
  {
   "cell_type": "code",
   "execution_count": null,
   "metadata": {},
   "outputs": [],
   "source": [
    "#part to scrap data from google flights :\n",
    "def input_search_criteria(origin, destination, travel_departure):\n",
    "\n",
    "    date_input = WebDriverWait(driver, 10).until(\n",
    "        EC.presence_of_element_located((By.CSS_SELECTOR, '[aria-label=\"Departure\"]'))\n",
    "    )\n",
    "    date_input.clear()\n",
    "    date_input.send_keys(travel_departure)\n",
    "    time.sleep(1)\n",
    "    date_input.send_keys(Keys.ENTER)\n",
    "\n",
    "\n",
    "    origin_input = WebDriverWait(driver, 10).until(\n",
    "        EC.presence_of_element_located((By.CSS_SELECTOR, '[aria-label=\"Where from?\"]'))\n",
    "    )\n",
    "    origin_input.clear()\n",
    "    origin_input.send_keys(origin)\n",
    "    origin_input.send_keys(Keys.ENTER)\n",
    "\n",
    "    time.sleep(1)\n",
    "    destination_input = WebDriverWait(driver, 10).until(\n",
    "        EC.presence_of_element_located((By.CSS_SELECTOR, '[aria-label=\"Where to?\"]'))\n",
    "    )\n",
    "    destination_input.clear()\n",
    "    destination_input.send_keys(destination)\n",
    "    time.sleep(1)\n",
    "    #click on the first suggestion\n",
    "    click_first_suggestion = WebDriverWait(driver, 10).until(\n",
    "        EC.presence_of_element_located((By.CSS_SELECTOR, '[class=\"zsRT0d\"]'))\n",
    "    )\n",
    "    click_first_suggestion.click()\n",
    "    time.sleep(3)\n",
    "\n",
    "    all_flights_button = WebDriverWait(driver, 20).until(\n",
    "        EC.element_to_be_clickable((By.CSS_SELECTOR, '[aria-label=\"View flights\"]'))\n",
    "    )\n",
    "    driver.execute_script(\"arguments[0].target='_self';\", all_flights_button)\n",
    "    all_flights_button.click()\n",
    "\n",
    "    # Attendre que la page des vols se charge\n",
    "    WebDriverWait(driver, 20).until(\n",
    "        lambda d: \"/flights\" in d.current_url\n",
    "    )\n",
    "    print(f\"URL actuelle : {driver.current_url}\")\n",
    "\n",
    "    # Charger le contenu de la page avec BeautifulSoup\n",
    "    soup = BeautifulSoup(driver.page_source, 'html.parser')\n",
    "\n",
    "    # Utiliser WebDriverWait pour attendre que le bouton soit cliquable\n",
    "    sorted_button = WebDriverWait(driver, 10).until(\n",
    "        EC.element_to_be_clickable((By.CSS_SELECTOR, 'button[aria-label=\"Sorted by top flights, Change sort order.\"]'))\n",
    "    )\n",
    "    sorted_button.click()\n",
    "\n",
    "    WebDriverWait(driver, 10).until(\n",
    "        EC.presence_of_element_located((By.CSS_SELECTOR, 'div[data-menu-uid]'))\n",
    "    )\n",
    "\n",
    "    # Cliquer sur l'option \"Emissions\"\n",
    "    emissions_option = WebDriverWait(driver, 10).until(\n",
    "        EC.element_to_be_clickable((By.XPATH,'/html/body/c-wiz[4]/div/div[2]/c-wiz/div[1]/c-wiz/div[2]/div[2]/div[2]/div/div[2]/div[1]/div/div/div/div[2]/div/ul/li[6]/span[4]'))\n",
    "    )\n",
    "    emissions_option.click()\n",
    "    time.sleep(3)\n",
    "\n",
    "\n",
    "def scrape_flight_data():\n",
    "    flight_data = []\n",
    "    soup = BeautifulSoup(driver.page_source, 'html.parser')\n",
    "    current_url = driver.current_url\n",
    "    print(f\"Current URL1: {current_url}\")\n",
    "    liste_vols = soup.find_all('li', {'class': 'pIav2d'})\n",
    "\n",
    "    print(f\"Nombre de vols trouvés : {len(liste_vols)}\")\n",
    "    \n",
    "\n",
    "    for flight in liste_vols:\n",
    "        try:\n",
    "            button_vol = WebDriverWait(driver, 10).until(\n",
    "                EC.presence_of_element_located((By.XPATH, f'/html/body/c-wiz[4]/div/div[2]/c-wiz/div[1]/c-wiz/div[2]/div[2]/div[2]/div/div[2]/div[3]/ul/li[{liste_vols.index(flight) + 1}]/div/div[3]/div/div/button'))\n",
    "            )\n",
    "            button_vol.click()\n",
    "            time.sleep(1)# Heure de départ\n",
    "            # Try to get flight number from span[10]\n",
    "            flight_number = WebDriverWait(driver, 10).until(\n",
    "                EC.presence_of_element_located((By.XPATH, f'/html/body/c-wiz[4]/div/div[2]/c-wiz/div[1]/c-wiz/div[2]/div[2]/div[2]/div/div[2]/div[3]/ul/li[{liste_vols.index(flight) + 1}]/div/div[4]/div/div[1]/div[12]/span[8]'))\n",
    "            ).text\n",
    "            \n",
    "\n",
    "            if len(flight_number) > 8:\n",
    "               flight_number = WebDriverWait(driver, 10).until(\n",
    "                    EC.presence_of_element_located((By.XPATH, f'/html/body/c-wiz[4]/div/div[2]/c-wiz/div[1]/c-wiz/div[2]/div[2]/div[2]/div/div[2]/div[3]/ul/li[{liste_vols.index(flight) + 1}]/div/div[4]/div/div[1]/div[12]/span[10]'))\n",
    "                ).text\n",
    "               airline=WebDriverWait(driver, 10).until(\n",
    "                EC.presence_of_element_located((By.XPATH, f'/html/body/c-wiz[4]/div/div[2]/c-wiz/div[1]/c-wiz/div[2]/div[2]/div[2]/div/div[2]/div[3]/ul/li[{liste_vols.index(flight) + 1}]/div/div[4]/div/div[1]/div[12]/span[2]'))\n",
    "            ).text\n",
    "               \n",
    "               plane= WebDriverWait(driver, 10).until(\n",
    "                EC.presence_of_element_located((By.XPATH, f'/html/body/c-wiz[4]/div/div[2]/c-wiz/div[1]/c-wiz/div[2]/div[2]/div[2]/div/div[2]/div[3]/ul/li[{liste_vols.index(flight) + 1}]/div/div[4]/div/div[1]/div[12]/span[8]'))\n",
    "            ).text\n",
    "               class_category=WebDriverWait(driver, 10).until(\n",
    "                EC.presence_of_element_located((By.XPATH, f'/html/body/c-wiz[4]/div/div[2]/c-wiz/div[1]/c-wiz/div[2]/div[2]/div[2]/div/div[2]/div[3]/ul/li[{liste_vols.index(flight) + 1}]/div/div[4]/div/div[1]/div[12]/span[6]'))\n",
    "            ).text\n",
    "\n",
    "            else:\n",
    "                flight_number = WebDriverWait(driver, 10).until(\n",
    "                EC.presence_of_element_located((By.XPATH, f'/html/body/c-wiz[4]/div/div[2]/c-wiz/div[1]/c-wiz/div[2]/div[2]/div[2]/div/div[2]/div[3]/ul/li[{liste_vols.index(flight) + 1}]/div/div[4]/div/div[1]/div[12]/span[8]'))\n",
    "            ).text\n",
    "                airline=WebDriverWait(driver, 10).until(\n",
    "                EC.presence_of_element_located((By.XPATH, f'/html/body/c-wiz[4]/div/div[2]/c-wiz/div[1]/c-wiz/div[2]/div[2]/div[2]/div/div[2]/div[3]/ul/li[{liste_vols.index(flight) + 1}]/div/div[4]/div/div[2]/div[11]/span[2]'))\n",
    "            ).text\n",
    "                plane= \"Non Renseigné\"\n",
    "                class_category=WebDriverWait(driver, 10).until(\n",
    "                EC.presence_of_element_located((By.XPATH, f'/html/body/c-wiz[4]/div/div[2]/c-wiz/div[1]/c-wiz/div[2]/div[2]/div[2]/div/div[2]/div[3]/ul/li[{liste_vols.index(flight) + 1}]/div/div[4]/div/div[2]/div[11]/span[6]'))\n",
    "            ).text\n",
    "\n",
    "            \n",
    "            departure_time_span = flight.find('span', {'aria-label': lambda x: x and 'Departure time' in x})\n",
    "            departure_time = departure_time_span.get_text(strip=True) if departure_time_span else None\n",
    "\n",
    "            arrival_time_span = flight.find('span', {'aria-label': lambda x: x and 'Arrival time' in x})\n",
    "            arrival_time = arrival_time_span.get_text(strip=True) if arrival_time_span else None\n",
    "\n",
    "            price_span = flight.find('span', {'aria-label': lambda x: x and 'euros' in x})\n",
    "            price = price_span.get_text(strip=True) if price_span else None\n",
    "\n",
    "            emissions = flight.find('div', {'class': 'O7CXue'}).get_text(strip=True) if flight.find('div', {'class': 'O7CXue'}) else None      \n",
    "\n",
    "            flight_data.append({\n",
    "                'Flight': flight_number,\n",
    "                'Departure Time': departure_time,\n",
    "                'Arrival Time': arrival_time,\n",
    "                'Airline':airline,\n",
    "                'Price': price,\n",
    "                'Emission': emissions,\n",
    "                'Class Category': class_category,\n",
    "                'Plane': plane\n",
    "            })\n",
    "        except TimeoutException as e:\n",
    "            return flight_data\n",
    "            continue\n",
    "\n",
    "        \n",
    "    return flight_data\n",
    "\n",
    "input_search_criteria('Paris', 'Barcelona', '10/02/2025')\n",
    "\n",
    "# Scrape flight data\n",
    "flight_data = scrape_flight_data()\n",
    "print(flight_data)\n",
    "# Convert to DataFrame\n",
    "# Verify the current URL\n",
    "current_url = driver.current_url\n",
    "print(f\"Current URL3: {current_url}\")\n",
    "df = pd.DataFrame(flight_data)\n",
    "df.head()\n",
    "print(df)\n",
    "df.info()\n"
   ]
  },
  {
   "cell_type": "code",
   "execution_count": null,
   "metadata": {},
   "outputs": [],
   "source": [
    "#combien de nan dans le dataframe\n",
    "print(df.isnull().sum())\n",
    "#montrer les non null\n",
    "print(df.notnull().sum())\n",
    "\n",
    "\n"
   ]
  },
  {
   "cell_type": "code",
   "execution_count": null,
   "metadata": {},
   "outputs": [],
   "source": [
    "\n",
    "df.head(50)"
   ]
  },
  {
   "cell_type": "code",
   "execution_count": null,
   "metadata": {},
   "outputs": [],
   "source": [
    "#send to csv\n",
    "df.to_csv('flight_data.csv', index=False)\n",
    "print(\"Data saved to flight_data.csv\")\n"
   ]
  },
  {
   "cell_type": "markdown",
   "metadata": {},
   "source": []
  },
  {
   "cell_type": "code",
   "execution_count": 7,
   "metadata": {},
   "outputs": [],
   "source": []
  },
  {
   "cell_type": "code",
   "execution_count": null,
   "metadata": {},
   "outputs": [],
   "source": []
  },
  {
   "cell_type": "code",
   "execution_count": null,
   "metadata": {},
   "outputs": [],
   "source": []
  },
  {
   "cell_type": "code",
   "execution_count": null,
   "metadata": {},
   "outputs": [],
   "source": []
  },
  {
   "cell_type": "code",
   "execution_count": null,
   "metadata": {},
   "outputs": [],
   "source": []
  }
 ],
 "metadata": {
  "kernelspec": {
   "display_name": "Python 3",
   "language": "python",
   "name": "python3"
  },
  "language_info": {
   "codemirror_mode": {
    "name": "ipython",
    "version": 3
   },
   "file_extension": ".py",
   "mimetype": "text/x-python",
   "name": "python",
   "nbconvert_exporter": "python",
   "pygments_lexer": "ipython3",
   "version": "3.10.11"
  }
 },
 "nbformat": 4,
 "nbformat_minor": 2
}
