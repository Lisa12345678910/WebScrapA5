{
 "cells": [
  {
   "cell_type": "markdown",
   "metadata": {},
   "source": [
    "# Webscraping & Applied ML"
   ]
  },
  {
   "cell_type": "markdown",
   "metadata": {},
   "source": [
    "## Description : \n",
    "\n",
    "La description du projet se trouve dans le word "
   ]
  },
  {
   "cell_type": "markdown",
   "metadata": {},
   "source": [
    "## Scrapping"
   ]
  },
  {
   "cell_type": "markdown",
   "metadata": {},
   "source": [
    "Our sources are Google Flight and ICAO.\n",
    "\n",
    "Google flights : https://www.google.com/travel/flights?hl=fr\n",
    "\n",
    "ICAO : https://www.icao.int/environmental-protection/Carbonoffset/Pages/default.aspx\n",
    "\n",
    "The objective is to scrap some data that we can use for our case."
   ]
  },
  {
   "cell_type": "markdown",
   "metadata": {},
   "source": [
    "Imports :"
   ]
  },
  {
   "cell_type": "code",
   "execution_count": 1,
   "metadata": {},
   "outputs": [],
   "source": [
    "from selenium import webdriver\n",
    "from selenium.webdriver.common.by import By\n",
    "from selenium.webdriver.common.keys import Keys\n",
    "from selenium.webdriver.support.ui import WebDriverWait\n",
    "from selenium.webdriver.support import expected_conditions as EC\n",
    "from selenium.common.exceptions import TimeoutException\n",
    "from bs4 import BeautifulSoup\n",
    "import pandas as pd\n",
    "import time\n",
    "import logging\n",
    "from datetime import datetime\n",
    "from selenium import webdriver\n",
    "from selenium.webdriver.chrome.service import Service\n",
    "from selenium.webdriver.common.by import By\n",
    "from selenium.webdriver.common.keys import Keys\n",
    "from bs4 import BeautifulSoup\n",
    "import time"
   ]
  },
  {
   "cell_type": "code",
   "execution_count": 2,
   "metadata": {},
   "outputs": [],
   "source": [
    "# Initialize the WebDriver\n",
    "service = Service(r'C:\\Users\\deslo\\.wdm\\drivers\\chromedriver\\win64\\131.0.6778.108\\chromedriver-win32\\chromedriver.exe')\n",
    "driver = webdriver.Chrome(service=service)\n",
    "\n",
    "# Open Google Flights\n",
    "driver.get('https://www.google.com/travel/flights?hl=en')"
   ]
  },
  {
   "cell_type": "code",
   "execution_count": null,
   "metadata": {},
   "outputs": [
    {
     "ename": "AttributeError",
     "evalue": "type object 'Keys' has no attribute 'click'",
     "output_type": "error",
     "traceback": [
      "\u001b[1;31m---------------------------------------------------------------------------\u001b[0m",
      "\u001b[1;31mAttributeError\u001b[0m                            Traceback (most recent call last)",
      "Cell \u001b[1;32mIn[3], line 63\u001b[0m\n\u001b[0;32m     54\u001b[0m         flight_data\u001b[38;5;241m.\u001b[39mappend({\n\u001b[0;32m     55\u001b[0m             \u001b[38;5;124m'\u001b[39m\u001b[38;5;124mAirline\u001b[39m\u001b[38;5;124m'\u001b[39m: airline,\n\u001b[0;32m     56\u001b[0m             \u001b[38;5;124m'\u001b[39m\u001b[38;5;124mPrice\u001b[39m\u001b[38;5;124m'\u001b[39m: price,\n\u001b[0;32m     57\u001b[0m             \u001b[38;5;124m'\u001b[39m\u001b[38;5;124mDuration\u001b[39m\u001b[38;5;124m'\u001b[39m: duration,\n\u001b[0;32m     58\u001b[0m             \u001b[38;5;124m'\u001b[39m\u001b[38;5;124mEmissions\u001b[39m\u001b[38;5;124m'\u001b[39m: emissions\n\u001b[0;32m     59\u001b[0m         })\n\u001b[0;32m     61\u001b[0m     \u001b[38;5;28;01mreturn\u001b[39;00m flight_data\n\u001b[1;32m---> 63\u001b[0m \u001b[43minput_search_criteria\u001b[49m\u001b[43m(\u001b[49m\u001b[38;5;124;43m'\u001b[39;49m\u001b[38;5;124;43mParis\u001b[39;49m\u001b[38;5;124;43m'\u001b[39;49m\u001b[43m,\u001b[49m\u001b[43m \u001b[49m\u001b[38;5;124;43m'\u001b[39;49m\u001b[38;5;124;43mNew York\u001b[39;49m\u001b[38;5;124;43m'\u001b[39;49m\u001b[43m,\u001b[49m\u001b[43m \u001b[49m\u001b[38;5;124;43m'\u001b[39;49m\u001b[38;5;124;43m2024-12-27\u001b[39;49m\u001b[38;5;124;43m'\u001b[39;49m\u001b[43m)\u001b[49m\n\u001b[0;32m     65\u001b[0m \u001b[38;5;66;03m# Scrape flight data\u001b[39;00m\n\u001b[0;32m     66\u001b[0m flight_data \u001b[38;5;241m=\u001b[39m scrape_flight_data()\n",
      "Cell \u001b[1;32mIn[3], line 16\u001b[0m, in \u001b[0;36minput_search_criteria\u001b[1;34m(origin, destination, travel_departure)\u001b[0m\n\u001b[0;32m     14\u001b[0m origin_input\u001b[38;5;241m.\u001b[39mclear()\n\u001b[0;32m     15\u001b[0m origin_input\u001b[38;5;241m.\u001b[39msend_keys(origin)\n\u001b[1;32m---> 16\u001b[0m origin_input\u001b[38;5;241m.\u001b[39msend_keys(\u001b[43mKeys\u001b[49m\u001b[38;5;241;43m.\u001b[39;49m\u001b[43mclick\u001b[49m)\n\u001b[0;32m     18\u001b[0m time\u001b[38;5;241m.\u001b[39msleep(\u001b[38;5;241m1\u001b[39m)\n\u001b[0;32m     19\u001b[0m destination_input \u001b[38;5;241m=\u001b[39m WebDriverWait(driver, \u001b[38;5;241m10\u001b[39m)\u001b[38;5;241m.\u001b[39muntil(\n\u001b[0;32m     20\u001b[0m     EC\u001b[38;5;241m.\u001b[39mpresence_of_element_located((By\u001b[38;5;241m.\u001b[39mCSS_SELECTOR, \u001b[38;5;124m'\u001b[39m\u001b[38;5;124m[aria-label=\u001b[39m\u001b[38;5;124m\"\u001b[39m\u001b[38;5;124mWhere to?\u001b[39m\u001b[38;5;124m\"\u001b[39m\u001b[38;5;124m]\u001b[39m\u001b[38;5;124m'\u001b[39m))\n\u001b[0;32m     21\u001b[0m )\n",
      "\u001b[1;31mAttributeError\u001b[0m: type object 'Keys' has no attribute 'click'"
     ]
    }
   ],
   "source": [
    "from selenium import webdriver\n",
    "from selenium.webdriver.chrome.service import Service\n",
    "from selenium.webdriver.common.by import By\n",
    "from selenium.webdriver.common.keys import Keys\n",
    "from bs4 import BeautifulSoup\n",
    "import time\n",
    "import pandas as pd\n",
    "\n",
    "#part to scrap data from google flights :\n",
    "def input_search_criteria(origin, destination, travel_departure):\n",
    "    origin_input = WebDriverWait(driver, 10).until(\n",
    "        EC.presence_of_element_located((By.CSS_SELECTOR, '[aria-label=\"Where from?\"]'))\n",
    "    )\n",
    "    origin_input.clear()\n",
    "    origin_input.send_keys(origin)\n",
    "    origin_input.send_keys(Keys.ENTER)\n",
    "\n",
    "    time.sleep(1)\n",
    "    destination_input = WebDriverWait(driver, 10).until(\n",
    "        EC.presence_of_element_located((By.CSS_SELECTOR, '[aria-label=\"Where to?\"]'))\n",
    "    )\n",
    "    destination_input.clear()\n",
    "    destination_input.send_keys(destination)\n",
    "    time.sleep(1)\n",
    "    destination_input.send_keys(Keys.Escape)\n",
    "\n",
    "    date_input = WebDriverWait(driver, 10).until(\n",
    "        EC.presence_of_element_located((By.CSS_SELECTOR, '[aria-label=\"Departure\"]'))\n",
    "    )\n",
    "    date_input.clear()\n",
    "    date_input.send_keys(travel_departure)\n",
    "    time.sleep(1)\n",
    "    date_input.send_keys(Keys.ESCAPE)\n",
    "\n",
    "   \n",
    "\n",
    "    search_button = WebDriverWait(driver, 10).until(\n",
    "        EC.presence_of_element_located((By.CSS_SELECTOR, 'button[jsname=\"McfNlf\"]'))\n",
    "    )\n",
    "    search_button.click()\n",
    "    time.sleep(5)\n",
    "\n",
    "def scrape_flight_data():\n",
    "    soup = BeautifulSoup(driver.page_source, 'html.parser')\n",
    "    flights = soup.find_all('div', class_='gws-flights-results__result-item')\n",
    "\n",
    "    flight_data = []\n",
    "    for flight in flights:\n",
    "        airline = flight.find('div', class_='gws-flights-results__carriers').text.strip()\n",
    "        price = flight.find('div', class_='gws-flights-results__price').text.strip()\n",
    "        duration = flight.find('div', class_='gws-flights-results__duration').text.strip()\n",
    "        emissions = flight.find('div', class_='gws-flights-results__emissions').text.strip()\n",
    "\n",
    "        flight_data.append({\n",
    "            'Airline': airline,\n",
    "            'Price': price,\n",
    "            'Duration': duration,\n",
    "            'Emissions': emissions\n",
    "        })\n",
    "\n",
    "    return flight_data\n",
    "\n",
    "input_search_criteria('Paris', 'New York', '2024-12-27')\n",
    "\n",
    "# Scrape flight data\n",
    "flight_data = scrape_flight_data()\n",
    "\n",
    "# Convert to DataFrame\n",
    "df = pd.DataFrame(flight_data)\n",
    "print(df)\n",
    "\n",
    "# Close the WebDriver\n",
    "driver.quit()"
   ]
  },
  {
   "cell_type": "code",
   "execution_count": null,
   "metadata": {},
   "outputs": [],
   "source": []
  },
  {
   "cell_type": "code",
   "execution_count": null,
   "metadata": {},
   "outputs": [],
   "source": []
  }
 ],
 "metadata": {
  "kernelspec": {
   "display_name": "Python 3",
   "language": "python",
   "name": "python3"
  },
  "language_info": {
   "codemirror_mode": {
    "name": "ipython",
    "version": 3
   },
   "file_extension": ".py",
   "mimetype": "text/x-python",
   "name": "python",
   "nbconvert_exporter": "python",
   "pygments_lexer": "ipython3",
   "version": "3.10.11"
  }
 },
 "nbformat": 4,
 "nbformat_minor": 2
}
