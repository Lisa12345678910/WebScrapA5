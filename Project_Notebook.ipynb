{
 "cells": [
  {
   "cell_type": "markdown",
   "metadata": {},
   "source": [
    "# Webscraping & Applied ML"
   ]
  },
  {
   "cell_type": "markdown",
   "metadata": {},
   "source": [
    "## Description : \n",
    "\n",
    "La description du projet se trouve dans le word "
   ]
  },
  {
   "cell_type": "markdown",
   "metadata": {},
   "source": [
    "## Scrapping"
   ]
  },
  {
   "cell_type": "markdown",
   "metadata": {},
   "source": [
    "Our sources are Google Flight and ICAO.\n",
    "\n",
    "Google flights : https://www.google.com/travel/flights?hl=fr\n",
    "\n",
    "ICAO : https://www.icao.int/environmental-protection/Carbonoffset/Pages/default.aspx\n",
    "\n",
    "The objective is to scrap some data that we can use for our case."
   ]
  },
  {
   "cell_type": "markdown",
   "metadata": {},
   "source": [
    "Imports :"
   ]
  },
  {
   "cell_type": "code",
   "execution_count": 1,
   "metadata": {},
   "outputs": [],
   "source": [
    "from selenium import webdriver\n",
    "from selenium.webdriver.common.by import By\n",
    "from selenium.webdriver.common.keys import Keys\n",
    "from selenium.webdriver.support.ui import WebDriverWait\n",
    "from selenium.webdriver.support import expected_conditions as EC\n",
    "from selenium.common.exceptions import TimeoutException\n",
    "from bs4 import BeautifulSoup\n",
    "import pandas as pd\n",
    "import time\n",
    "import logging\n",
    "from datetime import datetime\n",
    "from selenium import webdriver\n",
    "from selenium.webdriver.chrome.service import Service\n",
    "from selenium.webdriver.common.by import By\n",
    "from selenium.webdriver.common.keys import Keys\n",
    "from bs4 import BeautifulSoup\n",
    "import time"
   ]
  },
  {
   "cell_type": "code",
   "execution_count": 2,
   "metadata": {},
   "outputs": [],
   "source": [
    "# Initialize the WebDriver\n",
    "service = Service(r'C:\\Users\\deslo\\.wdm\\drivers\\chromedriver\\win64\\131.0.6778.108\\chromedriver-win32\\chromedriver.exe')\n",
    "driver = webdriver.Chrome(service=service)\n",
    "\n",
    "# Open Google Flights\n",
    "driver.get('https://www.google.com/travel/flights?hl=en')"
   ]
  },
  {
   "cell_type": "code",
   "execution_count": 3,
   "metadata": {},
   "outputs": [
    {
     "ename": "TimeoutException",
     "evalue": "Message: \nStacktrace:\n\tGetHandleVerifier [0x008034A3+25059]\n\t(No symbol) [0x0078CEA4]\n\t(No symbol) [0x0066BEC3]\n\t(No symbol) [0x006AFD86]\n\t(No symbol) [0x006AFFCB]\n\t(No symbol) [0x006ED952]\n\t(No symbol) [0x006D1F44]\n\t(No symbol) [0x006EB51E]\n\t(No symbol) [0x006D1C96]\n\t(No symbol) [0x006A3FAC]\n\t(No symbol) [0x006A4F3D]\n\tGetHandleVerifier [0x00AF5613+3113811]\n\tGetHandleVerifier [0x00B0A2DA+3199002]\n\tGetHandleVerifier [0x00B02AB2+3168242]\n\tGetHandleVerifier [0x008A3310+680016]\n\t(No symbol) [0x007957ED]\n\t(No symbol) [0x00792A98]\n\t(No symbol) [0x00792C35]\n\t(No symbol) [0x00785890]\n\tBaseThreadInitThunk [0x76A55D49+25]\n\tRtlInitializeExceptionChain [0x77AECEBB+107]\n\tRtlGetAppContainerNamedObjectPath [0x77AECE41+561]\n",
     "output_type": "error",
     "traceback": [
      "\u001b[1;31m---------------------------------------------------------------------------\u001b[0m",
      "\u001b[1;31mTimeoutException\u001b[0m                          Traceback (most recent call last)",
      "Cell \u001b[1;32mIn[3], line 89\u001b[0m\n\u001b[0;32m     86\u001b[0m input_search_criteria(\u001b[38;5;124m'\u001b[39m\u001b[38;5;124mParis\u001b[39m\u001b[38;5;124m'\u001b[39m, \u001b[38;5;124m'\u001b[39m\u001b[38;5;124mBarcelona\u001b[39m\u001b[38;5;124m'\u001b[39m, \u001b[38;5;124m'\u001b[39m\u001b[38;5;124m10/02/2025\u001b[39m\u001b[38;5;124m'\u001b[39m)\n\u001b[0;32m     88\u001b[0m \u001b[38;5;66;03m# Scrape flight data\u001b[39;00m\n\u001b[1;32m---> 89\u001b[0m flight_data \u001b[38;5;241m=\u001b[39m \u001b[43mscrape_flight_data\u001b[49m\u001b[43m(\u001b[49m\u001b[43m)\u001b[49m\n\u001b[0;32m     91\u001b[0m \u001b[38;5;66;03m# Convert to DataFrame\u001b[39;00m\n\u001b[0;32m     92\u001b[0m df \u001b[38;5;241m=\u001b[39m pd\u001b[38;5;241m.\u001b[39mDataFrame(flight_data)\n",
      "Cell \u001b[1;32mIn[3], line 53\u001b[0m, in \u001b[0;36mscrape_flight_data\u001b[1;34m()\u001b[0m\n\u001b[0;32m     50\u001b[0m all_flights\u001b[38;5;241m.\u001b[39mclick()\n\u001b[0;32m     51\u001b[0m time\u001b[38;5;241m.\u001b[39msleep(\u001b[38;5;241m1\u001b[39m)\n\u001b[1;32m---> 53\u001b[0m all_filters_button \u001b[38;5;241m=\u001b[39m \u001b[43mWebDriverWait\u001b[49m\u001b[43m(\u001b[49m\u001b[43mdriver\u001b[49m\u001b[43m,\u001b[49m\u001b[43m \u001b[49m\u001b[38;5;241;43m10\u001b[39;49m\u001b[43m)\u001b[49m\u001b[38;5;241;43m.\u001b[39;49m\u001b[43muntil\u001b[49m\u001b[43m(\u001b[49m\n\u001b[0;32m     54\u001b[0m \u001b[43m    \u001b[49m\u001b[43mEC\u001b[49m\u001b[38;5;241;43m.\u001b[39;49m\u001b[43mpresence_of_element_located\u001b[49m\u001b[43m(\u001b[49m\u001b[43m(\u001b[49m\u001b[43mBy\u001b[49m\u001b[38;5;241;43m.\u001b[39;49m\u001b[43mCLASS_NAME\u001b[49m\u001b[43m,\u001b[49m\u001b[43m \u001b[49m\u001b[38;5;124;43m'\u001b[39;49m\u001b[38;5;124;43mVfPpkd-LgbsSe VfPpkd-LgbsSe-OWXEXe-Bz112c-M1Soyc VfPpkd-LgbsSe-OWXEXe-dgl2Hf ksBjEc lKxP2d LQeN7 bRx3h x4Vnpe yJQRU sIWnMc hNyRxf cd29Sd\u001b[39;49m\u001b[38;5;124;43m'\u001b[39;49m\u001b[43m)\u001b[49m\u001b[43m)\u001b[49m\n\u001b[0;32m     55\u001b[0m \u001b[43m\u001b[49m\u001b[43m)\u001b[49m\n\u001b[0;32m     56\u001b[0m all_filters_button\u001b[38;5;241m.\u001b[39mclick()\n\u001b[0;32m     58\u001b[0m less_emissions \u001b[38;5;241m=\u001b[39m WebDriverWait(driver, \u001b[38;5;241m10\u001b[39m)\u001b[38;5;241m.\u001b[39muntil(\n\u001b[0;32m     59\u001b[0m EC\u001b[38;5;241m.\u001b[39mpresence_of_element_located((By\u001b[38;5;241m.\u001b[39mCSS_SELECTOR, \u001b[38;5;124m'\u001b[39m\u001b[38;5;124m[aria-label=\u001b[39m\u001b[38;5;124m\"\u001b[39m\u001b[38;5;124mLess emissions only\u001b[39m\u001b[38;5;124m\"\u001b[39m\u001b[38;5;124m]\u001b[39m\u001b[38;5;124m'\u001b[39m))\n\u001b[0;32m     60\u001b[0m )\n",
      "File \u001b[1;32m~\\AppData\\Local\\Packages\\PythonSoftwareFoundation.Python.3.10_qbz5n2kfra8p0\\LocalCache\\local-packages\\Python310\\site-packages\\selenium\\webdriver\\support\\wait.py:105\u001b[0m, in \u001b[0;36mWebDriverWait.until\u001b[1;34m(self, method, message)\u001b[0m\n\u001b[0;32m    103\u001b[0m         \u001b[38;5;28;01mbreak\u001b[39;00m\n\u001b[0;32m    104\u001b[0m     time\u001b[38;5;241m.\u001b[39msleep(\u001b[38;5;28mself\u001b[39m\u001b[38;5;241m.\u001b[39m_poll)\n\u001b[1;32m--> 105\u001b[0m \u001b[38;5;28;01mraise\u001b[39;00m TimeoutException(message, screen, stacktrace)\n",
      "\u001b[1;31mTimeoutException\u001b[0m: Message: \nStacktrace:\n\tGetHandleVerifier [0x008034A3+25059]\n\t(No symbol) [0x0078CEA4]\n\t(No symbol) [0x0066BEC3]\n\t(No symbol) [0x006AFD86]\n\t(No symbol) [0x006AFFCB]\n\t(No symbol) [0x006ED952]\n\t(No symbol) [0x006D1F44]\n\t(No symbol) [0x006EB51E]\n\t(No symbol) [0x006D1C96]\n\t(No symbol) [0x006A3FAC]\n\t(No symbol) [0x006A4F3D]\n\tGetHandleVerifier [0x00AF5613+3113811]\n\tGetHandleVerifier [0x00B0A2DA+3199002]\n\tGetHandleVerifier [0x00B02AB2+3168242]\n\tGetHandleVerifier [0x008A3310+680016]\n\t(No symbol) [0x007957ED]\n\t(No symbol) [0x00792A98]\n\t(No symbol) [0x00792C35]\n\t(No symbol) [0x00785890]\n\tBaseThreadInitThunk [0x76A55D49+25]\n\tRtlInitializeExceptionChain [0x77AECEBB+107]\n\tRtlGetAppContainerNamedObjectPath [0x77AECE41+561]\n"
     ]
    }
   ],
   "source": [
    "from selenium import webdriver\n",
    "from selenium.webdriver.chrome.service import Service\n",
    "from selenium.webdriver.common.by import By\n",
    "from selenium.webdriver.common.keys import Keys\n",
    "from bs4 import BeautifulSoup\n",
    "import time\n",
    "import pandas as pd\n",
    "\n",
    "#part to scrap data from google flights :\n",
    "def input_search_criteria(origin, destination, travel_departure):\n",
    "\n",
    "    date_input = WebDriverWait(driver, 10).until(\n",
    "        EC.presence_of_element_located((By.CSS_SELECTOR, '[aria-label=\"Departure\"]'))\n",
    "    )\n",
    "    date_input.clear()\n",
    "    date_input.send_keys(travel_departure)\n",
    "    time.sleep(1)\n",
    "    date_input.send_keys(Keys.ENTER)\n",
    "\n",
    "\n",
    "    origin_input = WebDriverWait(driver, 10).until(\n",
    "        EC.presence_of_element_located((By.CSS_SELECTOR, '[aria-label=\"Where from?\"]'))\n",
    "    )\n",
    "    origin_input.clear()\n",
    "    origin_input.send_keys(origin)\n",
    "    origin_input.send_keys(Keys.ENTER)\n",
    "\n",
    "    time.sleep(1)\n",
    "    destination_input = WebDriverWait(driver, 10).until(\n",
    "        EC.presence_of_element_located((By.CSS_SELECTOR, '[aria-label=\"Where to?\"]'))\n",
    "    )\n",
    "    destination_input.clear()\n",
    "    destination_input.send_keys(destination)\n",
    "    time.sleep(1)\n",
    "    #click on the first suggestion\n",
    "    click_first_suggestion = WebDriverWait(driver, 10).until(\n",
    "        EC.presence_of_element_located((By.CSS_SELECTOR, '[class=\"zsRT0d\"]'))\n",
    "    )\n",
    "    click_first_suggestion.click()\n",
    "    time.sleep(1)\n",
    "\n",
    "\n",
    "\n",
    "\n",
    "def scrape_flight_data():\n",
    "    flight_data = []\n",
    "    all_flights = WebDriverWait(driver, 10).until(\n",
    "    EC.presence_of_element_located((By.CSS_SELECTOR, '[aria-label=\"View flights\"]'))\n",
    "    )\n",
    "    all_flights.click()\n",
    "    time.sleep(1)\n",
    "    \n",
    "    all_filters_button = WebDriverWait(driver, 10).until(\n",
    "        EC.presence_of_element_located((By.CLASS_NAME, 'VfPpkd-LgbsSe VfPpkd-LgbsSe-OWXEXe-Bz112c-M1Soyc VfPpkd-LgbsSe-OWXEXe-dgl2Hf ksBjEc lKxP2d LQeN7 bRx3h x4Vnpe yJQRU sIWnMc hNyRxf cd29Sd'))\n",
    "    )\n",
    "    all_filters_button.click()\n",
    "\n",
    "    less_emissions = WebDriverWait(driver, 10).until(\n",
    "    EC.presence_of_element_located((By.CSS_SELECTOR, '[aria-label=\"Less emissions only\"]'))\n",
    "    )\n",
    "    less_emissions.click()\n",
    "\n",
    "\n",
    "\n",
    "    time.sleep(5)\n",
    "    soup = BeautifulSoup(driver.page_source, 'html.parser')\n",
    "    flights = soup.find_all('li', class_='pIav2d')\n",
    "    for flight in flights:\n",
    "            airline = flight.find('div', class_='mxvQLc ceis6c uj4xv uVdL1c A8qKrc sMVRZe').text.strip()\n",
    "            price = flight.find('div', class_='YMlIz FpEdX jLMuyc').text.strip()\n",
    "            departure_time = flight.find('div', class_='wtdjmc YMlIz ogfYpf tPgKwe').text.strip()\n",
    "            arrival_time = flight.find('div', class_='G2WY5c sSHqwe ogfYpf tPgKwe').text.strip()\n",
    "            duration = flight.find('div', class_='Ak5kof').text.strip()\n",
    "            emissions = flight.find('div', class_='N6PNV ogfYpf juCwOd BYjnCf').text.strip()\n",
    "\n",
    "            flight_data.append({\n",
    "                'Airline': airline,\n",
    "                'Price': price,\n",
    "                'Departure Time': departure_time,\n",
    "                'Arrival Time': arrival_time,\n",
    "                'Duration': duration,\n",
    "                'Emissions': emissions\n",
    "            })\n",
    "    return flight_data\n",
    "\n",
    "input_search_criteria('Paris', 'Barcelona', '10/02/2025')\n",
    "\n",
    "# Scrape flight data\n",
    "flight_data = scrape_flight_data()\n",
    "\n",
    "# Convert to DataFrame\n",
    "df = pd.DataFrame(flight_data)\n",
    "print(df)\n",
    "\n",
    "# Close the WebDriver\n"
   ]
  },
  {
   "cell_type": "code",
   "execution_count": 4,
   "metadata": {},
   "outputs": [],
   "source": [
    "driver.get('https://www.google.com/travel/flights?hl=en')"
   ]
  },
  {
   "cell_type": "markdown",
   "metadata": {},
   "source": []
  },
  {
   "cell_type": "code",
   "execution_count": null,
   "metadata": {},
   "outputs": [],
   "source": []
  }
 ],
 "metadata": {
  "kernelspec": {
   "display_name": "Python 3",
   "language": "python",
   "name": "python3"
  },
  "language_info": {
   "codemirror_mode": {
    "name": "ipython",
    "version": 3
   },
   "file_extension": ".py",
   "mimetype": "text/x-python",
   "name": "python",
   "nbconvert_exporter": "python",
   "pygments_lexer": "ipython3",
   "version": "3.10.11"
  }
 },
 "nbformat": 4,
 "nbformat_minor": 2
}
